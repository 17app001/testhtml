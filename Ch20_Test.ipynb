{
 "cells": [
  {
   "cell_type": "code",
   "execution_count": 3,
   "id": "e57dd942",
   "metadata": {},
   "outputs": [],
   "source": [
    "import requests"
   ]
  },
  {
   "cell_type": "code",
   "execution_count": 4,
   "id": "f5569292",
   "metadata": {},
   "outputs": [
    {
     "data": {
      "text/plain": [
       "<module 'requests' from 'C:\\\\ProgramData\\\\anaconda3\\\\Lib\\\\site-packages\\\\requests\\\\__init__.py'>"
      ]
     },
     "execution_count": 4,
     "metadata": {},
     "output_type": "execute_result"
    }
   ],
   "source": [
    "requests"
   ]
  },
  {
   "cell_type": "markdown",
   "id": "e34840cc",
   "metadata": {},
   "source": [
    "### __version__ 取得套件版本"
   ]
  },
  {
   "cell_type": "code",
   "execution_count": 5,
   "id": "10090c69",
   "metadata": {},
   "outputs": [
    {
     "data": {
      "text/plain": [
       "'2.31.0'"
      ]
     },
     "execution_count": 5,
     "metadata": {},
     "output_type": "execute_result"
    }
   ],
   "source": [
    "requests.__version__"
   ]
  },
  {
   "cell_type": "markdown",
   "id": "2b4f60bb",
   "metadata": {},
   "source": [
    "###   觀察yahoo奇摩網站"
   ]
  },
  {
   "cell_type": "code",
   "execution_count": 36,
   "id": "e3ca9d30",
   "metadata": {},
   "outputs": [],
   "source": [
    "url=\"https://github.com/17app001/testhtml/blob/master/test.html\""
   ]
  },
  {
   "cell_type": "code",
   "execution_count": 37,
   "id": "3a10a3c4",
   "metadata": {},
   "outputs": [
    {
     "data": {
      "text/plain": [
       "<Response [200]>"
      ]
     },
     "execution_count": 37,
     "metadata": {},
     "output_type": "execute_result"
    }
   ],
   "source": [
    "resp=requests.get(url)\n",
    "resp"
   ]
  },
  {
   "cell_type": "markdown",
   "id": "4f296e60",
   "metadata": {},
   "source": [
    "### 取得網站回傳碼 status_code"
   ]
  },
  {
   "cell_type": "code",
   "execution_count": 38,
   "id": "c12d2afc",
   "metadata": {},
   "outputs": [
    {
     "name": "stdout",
     "output_type": "stream",
     "text": [
      "網站登入成功!\n"
     ]
    }
   ],
   "source": [
    "if resp.status_code==200:\n",
    "    print(\"網站登入成功!\")\n",
    "else:\n",
    "    print(\"網站登入失敗~~\")"
   ]
  },
  {
   "cell_type": "markdown",
   "id": "437e6060",
   "metadata": {},
   "source": [
    "### resp.text"
   ]
  },
  {
   "cell_type": "code",
   "execution_count": 39,
   "id": "4d3042f3",
   "metadata": {},
   "outputs": [
    {
     "data": {
      "text/plain": [
       "str"
      ]
     },
     "execution_count": 39,
     "metadata": {},
     "output_type": "execute_result"
    }
   ],
   "source": [
    "type(resp.text)"
   ]
  },
  {
   "cell_type": "code",
   "execution_count": null,
   "id": "0ce1ee86",
   "metadata": {},
   "outputs": [],
   "source": []
  }
 ],
 "metadata": {
  "kernelspec": {
   "display_name": "Python 3 (ipykernel)",
   "language": "python",
   "name": "python3"
  },
  "language_info": {
   "codemirror_mode": {
    "name": "ipython",
    "version": 3
   },
   "file_extension": ".py",
   "mimetype": "text/x-python",
   "name": "python",
   "nbconvert_exporter": "python",
   "pygments_lexer": "ipython3",
   "version": "3.11.5"
  }
 },
 "nbformat": 4,
 "nbformat_minor": 5
}
