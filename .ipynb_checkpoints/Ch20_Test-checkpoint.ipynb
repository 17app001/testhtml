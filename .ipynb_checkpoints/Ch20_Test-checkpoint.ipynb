{
 "cells": [
  {
   "cell_type": "code",
   "execution_count": 3,
   "id": "b9a76c86",
   "metadata": {},
   "outputs": [],
   "source": [
    "import requests"
   ]
  },
  {
   "cell_type": "code",
   "execution_count": 4,
   "id": "a1b20b37",
   "metadata": {},
   "outputs": [
    {
     "data": {
      "text/plain": [
       "<module 'requests' from 'C:\\\\ProgramData\\\\anaconda3\\\\Lib\\\\site-packages\\\\requests\\\\__init__.py'>"
      ]
     },
     "execution_count": 4,
     "metadata": {},
     "output_type": "execute_result"
    }
   ],
   "source": [
    "requests"
   ]
  },
  {
   "cell_type": "markdown",
   "id": "9a14ba8d",
   "metadata": {},
   "source": [
    "### __version__ 取得套件版本"
   ]
  },
  {
   "cell_type": "code",
   "execution_count": 5,
   "id": "1d05fb16",
   "metadata": {},
   "outputs": [
    {
     "data": {
      "text/plain": [
       "'2.31.0'"
      ]
     },
     "execution_count": 5,
     "metadata": {},
     "output_type": "execute_result"
    }
   ],
   "source": [
    "requests.__version__"
   ]
  },
  {
   "cell_type": "markdown",
   "id": "8288f8b4",
   "metadata": {},
   "source": [
    "###   觀察yahoo奇摩網站"
   ]
  },
  {
   "cell_type": "code",
   "execution_count": 36,
   "id": "59d21179",
   "metadata": {},
   "outputs": [],
   "source": [
    "url=\"https://www.yahoo.com.tw\""
   ]
  },
  {
   "cell_type": "code",
   "execution_count": 37,
   "id": "f5bf4d9d",
   "metadata": {},
   "outputs": [
    {
     "data": {
      "text/plain": [
       "<Response [200]>"
      ]
     },
     "execution_count": 37,
     "metadata": {},
     "output_type": "execute_result"
    }
   ],
   "source": [
    "resp=requests.get(url)\n",
    "resp"
   ]
  },
  {
   "cell_type": "markdown",
   "id": "054eebf5",
   "metadata": {},
   "source": [
    "### 取得網站回傳碼 status_code"
   ]
  },
  {
   "cell_type": "code",
   "execution_count": 38,
   "id": "78deabc1",
   "metadata": {},
   "outputs": [
    {
     "name": "stdout",
     "output_type": "stream",
     "text": [
      "網站登入成功!\n"
     ]
    }
   ],
   "source": [
    "if resp.status_code==200:\n",
    "    print(\"網站登入成功!\")\n",
    "else:\n",
    "    print(\"網站登入失敗~~\")"
   ]
  },
  {
   "cell_type": "markdown",
   "id": "6eef1731",
   "metadata": {},
   "source": [
    "### resp.text"
   ]
  },
  {
   "cell_type": "code",
   "execution_count": 39,
   "id": "fe6ebe99",
   "metadata": {},
   "outputs": [
    {
     "data": {
      "text/plain": [
       "str"
      ]
     },
     "execution_count": 39,
     "metadata": {},
     "output_type": "execute_result"
    }
   ],
   "source": [
    "type(resp.text)"
   ]
  },
  {
   "cell_type": "code",
   "execution_count": null,
   "id": "eca60b2a",
   "metadata": {},
   "outputs": [],
   "source": []
  }
 ],
 "metadata": {
  "kernelspec": {
   "display_name": "Python 3 (ipykernel)",
   "language": "python",
   "name": "python3"
  },
  "language_info": {
   "codemirror_mode": {
    "name": "ipython",
    "version": 3
   },
   "file_extension": ".py",
   "mimetype": "text/x-python",
   "name": "python",
   "nbconvert_exporter": "python",
   "pygments_lexer": "ipython3",
   "version": "3.11.5"
  }
 },
 "nbformat": 4,
 "nbformat_minor": 5
}
